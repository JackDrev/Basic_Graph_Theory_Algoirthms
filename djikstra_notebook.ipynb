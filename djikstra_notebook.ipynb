{
 "cells": [
  {
   "cell_type": "markdown",
   "id": "753c2552",
   "metadata": {},
   "source": [
    "First we will define some examples of graph which the algorithm may be applied to. The graphs will be defined as 2-tuples with the first entry containing the adjacentcy matrix of the graph. The second will contain the names of the verticies in the graph, in the same order as the columns of the adjacentcy matrix (these can be string, floats or int)."
   ]
  },
  {
   "cell_type": "code",
   "execution_count": 3,
   "id": "2404562b",
   "metadata": {},
   "outputs": [],
   "source": [
    "import numpy as np\n",
    "import random\n",
    "import networkx as nx\n",
    "import matplotlib as plt"
   ]
  },
  {
   "cell_type": "code",
   "execution_count": 55,
   "id": "ee27ce14",
   "metadata": {},
   "outputs": [],
   "source": [
    "graph_weighted_1 = ([[0, 3, 10, 0, 0], [3, 0, 8, 0, 0], [10, 8, 0, 4, 15], \n",
    "        [0, 0, 4, 0, 9], [0, 0, 15, 9, 0]], ['1', '2', '3', '4', '5'])\n",
    "\n",
    "graph_directed_1 = ([[0, 3, 15, 0, 0], [1, 0, 8, 0, 0], [10, 16, 0, 4, 25], \n",
    "        [0, 0, 4, 0, 9], [0, 0, 15, 9, 0]], ['a', 'b', 'c', 'd', 'e'])\n",
    "\n",
    "graph_1 = ([[0, 1, 1, 0, 0], [1, 0, 1, 0, 0], [1, 1, 0, 1, 1], \n",
    "        [0, 0, 1, 0, 1], [0, 0, 1, 1, 0]], ['v', 'w', 'x', 'y', 'z'])\n",
    "\n",
    "graph_self_loop_1 = ([[0, 3, 10, 0, 0], [3, 7, 8, 0, 0], [10, 8, 0, 4, 15], \n",
    "        [0, 0, 4, 0, 9], [0, 0, 15, 9, 3]], [1, 2, 3, 4, 5])\n",
    "\n",
    "graph_weighted_2 = ([[0, 5, 0, 0], [5, 0, 6, 0], [0, 6, 0, 7], \n",
    "        [0, 0, 7, 0]], ['1', '2', '3', '4'])\n",
    "\n",
    "graph_disconnected_1 = ([[0, 5, 2, 0], [5, 0, 6, 0], [2, 6, 0, 0], \n",
    "        [0, 0, 0, 0]], ['1', '2', '3', '4'])\n",
    "\n",
    "set_of_graphs = [graph_weighted_1, graph_directed_1, graph_1, graph_self_loop_1, graph_weighted_2]\n",
    "for i in range(len(set_of_graphs)):\n",
    "    if len(set_of_graphs[i][0]) != len(set_of_graphs[i][1]):\n",
    "        print(\"Error, the\" + str(i) + \"th graph's vertex names are not the right length.\")\n",
    "        "
   ]
  },
  {
   "cell_type": "markdown",
   "id": "ea175fd6",
   "metadata": {},
   "source": []
  },
  {
   "cell_type": "code",
   "execution_count": 16,
   "id": "ea7df7fe",
   "metadata": {},
   "outputs": [],
   "source": [
    "def check_undirected(graph):\n",
    "    ''' This function takes a graph and returns `True` if the graph is undirected (and has no self-loops)\n",
    "    and returns `False` otherwise. '''\n",
    "    \n",
    "    # check for symetry in the adjacentcy matrix (undirected)\n",
    "    adj_transpose = np.array(graph[0]).T.tolist()\n",
    "    \n",
    "    if graph[0] == adj_transpose:\n",
    "        # check all values along the diagonal are zero (no self-loops)\n",
    "        if sum([graph[0][i][i] for i in range(len(graph[0]))]) == 0:\n",
    "            return True\n",
    "    return False"
   ]
  },
  {
   "cell_type": "code",
   "execution_count": 85,
   "id": "28904a97",
   "metadata": {},
   "outputs": [],
   "source": [
    "def display_graph(graph):\n",
    "    ''' This function takes a graph tuple (as defined above), and converts it into a networkx graph. \n",
    "    From here the graph is ploted and the networkx object is returned by the object. This is important\n",
    "    as it will allow the use of networkx's shortest paths function which can check the results of this\n",
    "    code. '''\n",
    "    \n",
    "    # create mapping from column index to vertex name.\n",
    "    vertex_names = {}\n",
    "    for i in range(len(graph[1])):\n",
    "        vertex_names[i] = graph[1][i]\n",
    "        \n",
    "    # create networkx version of the graph from the adjacentcy matrix.\n",
    "    adj_matrix = np.asarray(graph[0])\n",
    "    if check_undirected(graph):\n",
    "        G = nx.from_numpy_matrix(adj_matrix, parallel_edges = True)\n",
    "        \n",
    "        # Credit: https://stackoverflow.com/questions/28372127/add-edge-weights-to-plot-output-in-networkx\n",
    "        # Plot G\n",
    "        pos=nx.circular_layout(G)\n",
    "        nx.draw_networkx(G, pos, labels = vertex_names, node_color = 'r')\n",
    "    \n",
    "        weights = nx.get_edge_attributes(G, 'weight')\n",
    "        nx.draw_networkx_edge_labels(G, pos, edge_labels=weights)\n",
    "    '''\n",
    "    else:\n",
    "        G = nx.from_numpy_matrix(adj_matrix, parallel_edges = True, create_using = nx.DiGraph)\n",
    "        \n",
    "        # Credit: https://stackoverflow.com/questions/28372127/add-edge-weights-to-plot-output-in-networkx\n",
    "        # Plot G\n",
    "        pos=nx.circular_layout(G)\n",
    "        nx.draw_networkx(G, pos, labels = vertex_names, node_color = 'r')\n",
    "    \n",
    "        weights = nx.get_edge_attributes(G, 'weight')\n",
    "        weights_2 = {}\n",
    "        for edge1 in weights.keys():\n",
    "            for edge2 in weights.keys():\n",
    "                if edge1[0] == edge2[1] and edge1[1] == edge2[0]:\n",
    "                    if len(weights_2[edge1]) > 0:\n",
    "                        weights_2[edge1] = \n",
    "        nx.draw_networkx_edge_labels(G, pos, edge_labels=weights)\n",
    "    ''' \n",
    "    return G"
   ]
  },
  {
   "cell_type": "code",
   "execution_count": 18,
   "id": "8b2ef734",
   "metadata": {},
   "outputs": [],
   "source": [
    "def Arg_Minimum_not_S(mapping, S):\n",
    "    '''  This function takes `mapping` a dictionary, with numeric only output values and a list S of keys for `mapping`. \n",
    "    From this it returns the input value that is not in S which yeilds the lowest mapping output. This will be used to \n",
    "    find the vertex with the smallest label that is not in S, in the `djikstras` algorithm function. '''\n",
    "    \n",
    "    # check mapping is a dictionary\n",
    "    assert type(mapping) == type({}), \"Input `mapping` is not a dictionary.\"\n",
    "    # check S is a list\n",
    "    assert type(S) == type([]), \"Input S is not a list.\"\n",
    "    \n",
    "    # check all output values of mapping are numeric\n",
    "    assert sum([str(value).isnumeric() for value in mapping.values()]) == len(mapping.values()), \"The dictionary input has a non-numeric value (output)\"\n",
    "    # check all elements of S are keys for `mapping`\n",
    "    assert sum([(i in mapping.keys()) for i in S]) == len(S), 'Not all S elements are keys.'\n",
    "    \n",
    "    # create a shallow copy of the mapping (dictionary)\n",
    "    mapping = mapping.copy()\n",
    "    \n",
    "    for key in S:\n",
    "        # mapping is a shallow copy of the dictionary passed into the function\n",
    "        # so we can delete elements without causing issues.\n",
    "        mapping.pop(key)\n",
    "        \n",
    "    # If dictionary is empty return None\n",
    "    if len(mapping.keys()) == 0:\n",
    "        return None\n",
    "    \n",
    "    # Find lowest value and put all keys that generate this value into `arg_min`\n",
    "    arg_min = []\n",
    "    lowest_value = min(mapping.values())\n",
    "    for key in mapping.keys():\n",
    "        if mapping[key] == lowest_value:\n",
    "            arg_min.append(key)\n",
    "    # Here we return a random element of the `arg_min` list, this won't affect djikstras algorithm.\n",
    "    return random.choice(arg_min)"
   ]
  },
  {
   "cell_type": "code",
   "execution_count": 19,
   "id": "84a49881",
   "metadata": {},
   "outputs": [],
   "source": [
    "def path_from_parent(starting_vertex, parent_dict, base_vertex, vertex_set):\n",
    "    ''' This function traces vertecies back through their `parent`s to find the path from the `base vertex` \n",
    "    to the `starting vertex`. This is useful as the labeling for djistras algorithm only stores a `parent`\n",
    "    the vertex adjacent to the `starting vertex` in its minimum path. So we have to find the path by tracing\n",
    "    back through the heirachy of `parent`s. '''\n",
    "    # Initialise path and current vertex\n",
    "    path = [vertex_set[starting_vertex]]\n",
    "    current_vertex = starting_vertex\n",
    "    \n",
    "    # trace through `parent`s until the base_vertex is found\n",
    "    while current_vertex != base_vertex:\n",
    "        current_vertex = parent_dict[current_vertex]\n",
    "        path.append(vertex_set[current_vertex])\n",
    "        \n",
    "    # return the reverse order of this list, as the path from base_vertex to \n",
    "    # starting_vertex.\n",
    "    return path[::-1]\n",
    "    "
   ]
  },
  {
   "cell_type": "code",
   "execution_count": 41,
   "id": "56c996bf",
   "metadata": {},
   "outputs": [],
   "source": [
    "def djikstra(graph, base_vertex):\n",
    "    ''' This function takes .... and a selected vertex and will display minimum paths from this vertex \n",
    "    to all other verticies, as calculated by an implementation of djikstras algorithm'''\n",
    "    \n",
    "    # djikstras algorithm can only be applied to undirected graphs with positive weights\n",
    "    assert check_undirected(graph), \"An undirected graph was not input.\"\n",
    "    assert min([min(col) for col in graph[0]]) >= 0, \"A graph with a negative weight was input.\"\n",
    "    assert base_vertex in graph[1], \"`base vertex` is not in the graph's vertex set.\"\n",
    "    \n",
    "    # Djikstra's algorithm ususally initialises the distance labels with +inf\n",
    "    # but for this function it is more practical maintain int type throughout, \n",
    "    # and an upper bound(2*(sum of all weights) ie: sum over the adjacentcy matrix) \n",
    "    # on distance serves the same purpose.\n",
    "    UPPER_BOUND_DIST = sum([sum(col) for col in graph[0]])\n",
    "    \n",
    "    # convert vertex to an index, the function will work with indicies of the\n",
    "    # graph and only use the vertex names given at the end whilst printing out\n",
    "    # results.\n",
    "    for i in range(len(graph[1])):\n",
    "        if graph[1][i] == base_vertex:\n",
    "            base_vertex = i\n",
    "    \n",
    "    # Initialise labels for parent and distance.\n",
    "    labels_dist = {}\n",
    "    labels_parent = {}\n",
    "    S = []\n",
    "    for i in range(len(graph[1])):\n",
    "        if i != base_vertex:\n",
    "            labels_dist[i] = UPPER_BOUND_DIST\n",
    "            labels_parent[i] = '-'\n",
    "        else: \n",
    "            labels_dist[i] = 0\n",
    "            labels_parent[i] = base_vertex\n",
    "            \n",
    "    # Repeat: find vertex not in S with the smallest distance (moving_vertex), \n",
    "    # check to see if any edges between this vertex (moving_vertex) and \n",
    "    # other verticies not in S can reduce their distance(label),  \n",
    "    # if so update the label for parent and distance. \n",
    "    # Then move this vertex into S. \n",
    "    # Stop: when all elements have been moved into S. \n",
    "    while(len(S) < len(graph[1])):\n",
    "        moving_vertex = Arg_Minimum_not_S(labels_dist, S)\n",
    "        for i in range(len(graph[1])):\n",
    "            if (i not in S) and (graph[0][moving_vertex][i] > 0):\n",
    "                if labels_dist[moving_vertex] + graph[0][moving_vertex][i] < labels_dist[i]:\n",
    "                    labels_dist[i] = labels_dist[moving_vertex] + graph[0][moving_vertex][i]\n",
    "                    labels_parent[i] = moving_vertex\n",
    "        S.append(moving_vertex)\n",
    "    \n",
    "    # Check the graph is connected (at least one path between any two verticies),\n",
    "    # this is equivalent to checking that all labels have been changed.\n",
    "    for i in range(len(graph[1])):\n",
    "        if labels_parent[i] == '-':\n",
    "            print(\"Graph is not connected, cannot apply djikstras algorthm.\")\n",
    "            return 0\n",
    "    \n",
    "    # Display results\n",
    "    for i in S:\n",
    "        if i != base_vertex:\n",
    "            print('Vertex: ' + str(graph[1][i]) + ', Minimum Distance: ' + \n",
    "                  str(labels_dist[i]) + ', Path: ' + str(path_from_parent(i, labels_parent, base_vertex, graph[1])))\n",
    "        else:\n",
    "            print('Vertex: ' + str(graph[1][i]) + ', Minimum Distance: ' + \n",
    "                  str(labels_dist[i]) + ', (base vertex)')\n",
    "    return 0"
   ]
  },
  {
   "cell_type": "markdown",
   "id": "eabf4ea1",
   "metadata": {},
   "source": []
  },
  {
   "cell_type": "code",
   "execution_count": 79,
   "id": "4fdbf9c4",
   "metadata": {},
   "outputs": [
    {
     "name": "stdout",
     "output_type": "stream",
     "text": [
      "My implementation of Djikstra's algorithm:\n",
      "\n",
      "Vertex: 5, Minimum Distance: 0, (base vertex)\n",
      "Vertex: 4, Minimum Distance: 9, Path: ['5', '4']\n",
      "Vertex: 3, Minimum Distance: 13, Path: ['5', '4', '3']\n",
      "Vertex: 2, Minimum Distance: 21, Path: ['5', '4', '3', '2']\n",
      "Vertex: 1, Minimum Distance: 23, Path: ['5', '4', '3', '1']\n",
      "\n",
      "Networkx's implementation of djikstra's algorithm:\n",
      "{4: [4], 2: [4, 2], 3: [4, 3], 0: [4, 2, 0], 1: [4, 2, 1]}\n"
     ]
    },
    {
     "data": {
      "image/png": "[encoded data removed]",
      "text/plain": [
       "<Figure size 432x288 with 1 Axes>"
      ]
     },
     "metadata": {},
     "output_type": "display_data"
    }
   ],
   "source": [
    "graph = graph_weighted_1\n",
    "\n",
    "G = display_graph(graph)\n",
    "\n",
    "if check_undirected(graph):\n",
    "    print(\"My implementation of Djikstra's algorithm:\\n\")\n",
    "    base_vertex = random.choice(graph[1])\n",
    "    djikstra(graph, base_vertex)\n",
    "    print(\"\\nNetworkx's implementation of djikstra's algorithm:\")\n",
    "    print(nx.single_source_shortest_path(G, graph[1].index(base_vertex)))\n",
    "else:\n",
    "    print('Djikstras algorithm cannot be applied to this graph.')"
   ]
  },
  {
   "cell_type": "code",
   "execution_count": 84,
   "id": "a0bd7c7b",
   "metadata": {},
   "outputs": [
    {
     "name": "stdout",
     "output_type": "stream",
     "text": [
      "{(0, 1): 3, (0, 2): 15, (1, 0): 1, (1, 2): 8, (2, 0): 10, (2, 1): 16, (2, 3): 4, (2, 4): 25, (3, 2): 4, (3, 4): 9, (4, 2): 15, (4, 3): 9}\n",
      "Djikstras algorithm cannot be applied to this graph.\n"
     ]
    },
    {
     "data": {
      "image/png": "[encoded data removed]",
      "text/plain": [
       "<Figure size 432x288 with 1 Axes>"
      ]
     },
     "metadata": {},
     "output_type": "display_data"
    }
   ],
   "source": [
    "graph = graph_directed_1\n",
    "\n",
    "if check_undirected(graph):\n",
    "    G = display_graph(graph)\n",
    "    print(\"My implementation of Djikstra's algorithm:\\n\")\n",
    "    base_vertex = random.choice(graph[1])\n",
    "    djikstra(graph, base_vertex)\n",
    "    print(\"\\nNetworkx's implementation of djikstra's algorithm:\")\n",
    "    print(nx.single_source_shortest_path(G, graph[1].index(base_vertex)))\n",
    "else:\n",
    "    print('Djikstras algorithm cannot be applied to this graph.')"
   ]
  },
  {
   "cell_type": "code",
   "execution_count": 51,
   "id": "cdf7b289",
   "metadata": {},
   "outputs": [
    {
     "name": "stdout",
     "output_type": "stream",
     "text": [
      "My implementation of Djikstra's algorithm:\n",
      "\n",
      "Vertex: y, Minimum Distance: 0, (base vertex)\n",
      "Vertex: x, Minimum Distance: 1, Path: ['y', 'x']\n",
      "Vertex: z, Minimum Distance: 1, Path: ['y', 'z']\n",
      "Vertex: w, Minimum Distance: 2, Path: ['y', 'x', 'w']\n",
      "Vertex: v, Minimum Distance: 2, Path: ['y', 'x', 'v']\n",
      "\n",
      "Networkx's implementation of djikstra's algorithm:\n",
      "{3: [3], 2: [3, 2], 4: [3, 4], 0: [3, 2, 0], 1: [3, 2, 1]}\n"
     ]
    },
    {
     "data": {
      "image/png": "[encoded data removed]",
      "text/plain": [
       "<Figure size 432x288 with 1 Axes>"
      ]
     },
     "metadata": {},
     "output_type": "display_data"
    }
   ],
   "source": [
    "graph = graph_1\n",
    "\n",
    "G = display_graph(graph)\n",
    "\n",
    "if check_undirected(graph):\n",
    "    print(\"My implementation of Djikstra's algorithm:\\n\")\n",
    "    base_vertex = random.choice(graph[1])\n",
    "    djikstra(graph, base_vertex)\n",
    "    print(\"\\nNetworkx's implementation of djikstra's algorithm:\")\n",
    "    print(nx.single_source_shortest_path(G, graph[1].index(base_vertex)))\n",
    "else:\n",
    "    print('Djikstras algorithm cannot be applied to this graph.')"
   ]
  },
  {
   "cell_type": "code",
   "execution_count": 82,
   "id": "42f4085c",
   "metadata": {},
   "outputs": [
    {
     "name": "stdout",
     "output_type": "stream",
     "text": [
      "Djikstras algorithm cannot be applied to this graph.\n"
     ]
    },
    {
     "data": {
      "image/png": "[encoded data removed]",
      "text/plain": [
       "<Figure size 432x288 with 1 Axes>"
      ]
     },
     "metadata": {},
     "output_type": "display_data"
    }
   ],
   "source": [
    "graph = graph_self_loop_1\n",
    "\n",
    "G = display_graph(graph)\n",
    "\n",
    "if check_undirected(graph):\n",
    "    print(\"My implementation of Djikstra's algorithm:\\n\")\n",
    "    base_vertex = random.choice(graph[1])\n",
    "    djikstra(graph, base_vertex)\n",
    "    print(\"\\nNetworkx's implementation of djikstra's algorithm:\")\n",
    "    print(nx.single_source_shortest_path(G, graph[1].index(base_vertex)))\n",
    "else:\n",
    "    print('Djikstras algorithm cannot be applied to this graph.')"
   ]
  },
  {
   "cell_type": "code",
   "execution_count": 53,
   "id": "a05597d6",
   "metadata": {},
   "outputs": [
    {
     "name": "stdout",
     "output_type": "stream",
     "text": [
      "My implementation of Djikstra's algorithm:\n",
      "\n",
      "Vertex: 3, Minimum Distance: 0, (base vertex)\n",
      "Vertex: 2, Minimum Distance: 6, Path: ['3', '2']\n",
      "Vertex: 4, Minimum Distance: 7, Path: ['3', '4']\n",
      "Vertex: 1, Minimum Distance: 11, Path: ['3', '2', '1']\n",
      "\n",
      "Networkx's implementation of djikstra's algorithm:\n",
      "{2: [2], 1: [2, 1], 3: [2, 3], 0: [2, 1, 0]}\n"
     ]
    },
    {
     "data": {
      "image/png": "[encoded data removed]",
      "text/plain": [
       "<Figure size 432x288 with 1 Axes>"
      ]
     },
     "metadata": {},
     "output_type": "display_data"
    }
   ],
   "source": [
    "graph = graph_weighted_2\n",
    "\n",
    "G = display_graph(graph)\n",
    "\n",
    "if check_undirected(graph):\n",
    "    print(\"My implementation of Djikstra's algorithm:\\n\")\n",
    "    base_vertex = random.choice(graph[1])\n",
    "    djikstra(graph, base_vertex)\n",
    "    print(\"\\nNetworkx's implementation of djikstra's algorithm:\")\n",
    "    print(nx.single_source_shortest_path(G, graph[1].index(base_vertex)))\n",
    "else:\n",
    "    print('Djikstras algorithm cannot be applied to this graph.')"
   ]
  },
  {
   "cell_type": "code",
   "execution_count": 54,
   "id": "94c61e0e",
   "metadata": {},
   "outputs": [
    {
     "name": "stdout",
     "output_type": "stream",
     "text": [
      "My implementation of Djikstra's algorithm:\n",
      "\n",
      "Graph is not connected, cannot apply djikstras algorthm.\n",
      "\n",
      "Networkx's implementation of djikstra's algorithm:\n",
      "{2: [2], 0: [2, 0], 1: [2, 1]}\n"
     ]
    },
    {
     "data": {
      "image/png": "[encoded data removed]",
      "text/plain": [
       "<Figure size 432x288 with 1 Axes>"
      ]
     },
     "metadata": {},
     "output_type": "display_data"
    }
   ],
   "source": [
    "graph = graph_disconnected_1\n",
    "\n",
    "G = display_graph(graph)\n",
    "\n",
    "if check_undirected(graph):\n",
    "    print(\"My implementation of Djikstra's algorithm:\\n\")\n",
    "    base_vertex = random.choice(graph[1])\n",
    "    djikstra(graph, base_vertex)\n",
    "    print(\"\\nNetworkx's implementation of djikstra's algorithm:\")\n",
    "    print(nx.single_source_shortest_path(G, graph[1].index(base_vertex)))\n",
    "else:\n",
    "    print('Djikstras algorithm cannot be applied to this graph.')"
   ]
  },
  {
   "cell_type": "code",
   "execution_count": null,
   "id": "1f8d8cfa",
   "metadata": {},
   "outputs": [],
   "source": []
  }
 ],
 "metadata": {
  "kernelspec": {
   "display_name": "Python 3 (ipykernel)",
   "language": "python",
   "name": "python3"
  },
  "language_info": {
   "codemirror_mode": {
    "name": "ipython",
    "version": 3
   },
   "file_extension": ".py",
   "mimetype": "text/x-python",
   "name": "python",
   "nbconvert_exporter": "python",
   "pygments_lexer": "ipython3",
   "version": "3.8.8"
  }
 },
 "nbformat": 4,
 "nbformat_minor": 5
}
